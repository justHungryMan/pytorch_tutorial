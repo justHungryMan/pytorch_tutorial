{
 "cells": [
  {
   "cell_type": "code",
   "execution_count": 1,
   "metadata": {},
   "outputs": [],
   "source": [
    "from __future__ import print_function\n",
    "import torch\n",
    "import torch.nn as nn\n",
    "import torch.nn.functional as F\n",
    "import torch.optim as optim\n",
    "import torchvision\n",
    "import torchvision.transforms as transforms\n",
    "import numpy as np\n",
    "import matplotlib.pyplot as plt"
   ]
  },
  {
   "cell_type": "markdown",
   "metadata": {},
   "source": [
    "# Contents\n",
    "\n",
    "1. Basic functions\n",
    "2. Converting Numpy array to Torch tensor\n",
    "3. Cuda Tensors\n",
    "4. Autograd\n",
    "5. Loss & Back Propagation\n",
    "6. Dataloader"
   ]
  },
  {
   "cell_type": "markdown",
   "metadata": {},
   "source": [
    "## 1. Basic functions"
   ]
  },
  {
   "cell_type": "code",
   "execution_count": 2,
   "metadata": {},
   "outputs": [
    {
     "name": "stdout",
     "output_type": "stream",
     "text": [
      "tensor([[ 6.0076e+01,  4.5835e-41, -9.4855e-11],\n",
      "        [ 3.0686e-41,  0.0000e+00,  0.0000e+00],\n",
      "        [ 0.0000e+00,  0.0000e+00,  0.0000e+00],\n",
      "        [ 0.0000e+00,  5.4735e-41,  0.0000e+00],\n",
      "        [ 4.1591e-42,  0.0000e+00,  0.0000e+00]])\n"
     ]
    }
   ],
   "source": [
    "# create empty tensor 5 x 3\n",
    "x = torch.empty(5, 3)\n",
    "print(x)"
   ]
  },
  {
   "cell_type": "code",
   "execution_count": 3,
   "metadata": {},
   "outputs": [
    {
     "name": "stdout",
     "output_type": "stream",
     "text": [
      "tensor([[0.1320, 0.4300, 0.7730],\n",
      "        [0.9846, 0.5888, 0.6065],\n",
      "        [0.4110, 0.8260, 0.9693],\n",
      "        [0.1866, 0.6622, 0.6698],\n",
      "        [0.7643, 0.1834, 0.0057]])\n"
     ]
    }
   ],
   "source": [
    "# create random tensor 5 x 3\n",
    "x = torch.rand(5, 3)\n",
    "print(x)"
   ]
  },
  {
   "cell_type": "code",
   "execution_count": 4,
   "metadata": {},
   "outputs": [
    {
     "name": "stdout",
     "output_type": "stream",
     "text": [
      "tensor([[0.8161, 0.0016, 0.2997],\n",
      "        [0.0852, 0.3073, 0.4699],\n",
      "        [0.3752, 0.9965, 0.9496],\n",
      "        [0.5776, 0.7458, 0.8067],\n",
      "        [0.3411, 0.9674, 0.2781]])\n"
     ]
    }
   ],
   "source": [
    "y = torch.rand(5, 3)\n",
    "print(y)"
   ]
  },
  {
   "cell_type": "code",
   "execution_count": 5,
   "metadata": {},
   "outputs": [
    {
     "name": "stdout",
     "output_type": "stream",
     "text": [
      "tensor([[0.9481, 0.4316, 1.0727],\n",
      "        [1.0699, 0.8961, 1.0763],\n",
      "        [0.7862, 1.8226, 1.9189],\n",
      "        [0.7642, 1.4079, 1.4765],\n",
      "        [1.1054, 1.1508, 0.2839]])\n"
     ]
    }
   ],
   "source": [
    "# tensor operation on cpu\n",
    "print(x + y)"
   ]
  },
  {
   "cell_type": "markdown",
   "metadata": {},
   "source": [
    "## 2. Converting Numpy array to Torch tensor"
   ]
  },
  {
   "cell_type": "code",
   "execution_count": 6,
   "metadata": {},
   "outputs": [
    {
     "name": "stdout",
     "output_type": "stream",
     "text": [
      "[1. 1. 1. 1. 1.]\n"
     ]
    }
   ],
   "source": [
    "a = np.ones(5)\n",
    "print(a)"
   ]
  },
  {
   "cell_type": "code",
   "execution_count": 7,
   "metadata": {},
   "outputs": [
    {
     "name": "stdout",
     "output_type": "stream",
     "text": [
      "tensor([1., 1., 1., 1., 1.], dtype=torch.float64)\n"
     ]
    }
   ],
   "source": [
    "# numpy to tensor\n",
    "b = torch.from_numpy(a)\n",
    "print(b)"
   ]
  },
  {
   "cell_type": "code",
   "execution_count": 8,
   "metadata": {},
   "outputs": [
    {
     "name": "stdout",
     "output_type": "stream",
     "text": [
      "[2. 2. 2. 2. 2.]\n"
     ]
    }
   ],
   "source": [
    "np.add(a, 1, out=a)\n",
    "print(a)"
   ]
  },
  {
   "cell_type": "code",
   "execution_count": 9,
   "metadata": {},
   "outputs": [
    {
     "name": "stdout",
     "output_type": "stream",
     "text": [
      "tensor([2., 2., 2., 2., 2.], dtype=torch.float64)\n"
     ]
    }
   ],
   "source": [
    "print(b)"
   ]
  },
  {
   "cell_type": "markdown",
   "metadata": {},
   "source": [
    "## 3. Cuda Tensors"
   ]
  },
  {
   "cell_type": "code",
   "execution_count": 13,
   "metadata": {},
   "outputs": [
    {
     "name": "stdout",
     "output_type": "stream",
     "text": [
      "tensor([[1.5567],\n",
      "        [1.9872]], device='cuda:0')\n",
      "tensor([[1.5567],\n",
      "        [1.9872]], dtype=torch.float64)\n"
     ]
    }
   ],
   "source": [
    "x = torch.rand(2, 1)\n",
    "\n",
    "if torch.cuda.is_available():\n",
    "    device = torch.device(\"cuda\")\n",
    "    y = torch.ones_like(x, device = device) # directly tensor on GPU\n",
    "    x = x.to(device)                        # move tensor to GPU\n",
    "# GPU operation\n",
    "    z = x + y\n",
    "    print(z)\n",
    "# GPU to CPU\n",
    "    print(z.to(\"cpu\", torch.double))"
   ]
  },
  {
   "cell_type": "markdown",
   "metadata": {},
   "source": [
    "## 4. Autograd"
   ]
  },
  {
   "cell_type": "code",
   "execution_count": 14,
   "metadata": {},
   "outputs": [
    {
     "name": "stdout",
     "output_type": "stream",
     "text": [
      "tensor(1., requires_grad=True)\n"
     ]
    }
   ],
   "source": [
    "# create tensor\n",
    "x = torch.tensor(1., requires_grad = True)\n",
    "print(x)"
   ]
  },
  {
   "cell_type": "code",
   "execution_count": 15,
   "metadata": {},
   "outputs": [
    {
     "name": "stdout",
     "output_type": "stream",
     "text": [
      "tensor(3., requires_grad=True)\n"
     ]
    }
   ],
   "source": [
    "w = torch.tensor(3., requires_grad = True)\n",
    "print(w)"
   ]
  },
  {
   "cell_type": "code",
   "execution_count": 16,
   "metadata": {},
   "outputs": [
    {
     "name": "stdout",
     "output_type": "stream",
     "text": [
      "tensor(3., grad_fn=<MulBackward0>)\n",
      "<MulBackward0 object at 0x7fc53c6cd5d0>\n",
      "True\n"
     ]
    }
   ],
   "source": [
    "# Build computational graph\n",
    "# out = (w * x + 2) ^ 2\n",
    "\n",
    "y = w * x\n",
    "\n",
    "print(y)\n",
    "print(y.grad_fn)\n",
    "print(y.requires_grad)"
   ]
  },
  {
   "cell_type": "code",
   "execution_count": 17,
   "metadata": {},
   "outputs": [
    {
     "name": "stdout",
     "output_type": "stream",
     "text": [
      "tensor(5., grad_fn=<AddBackward0>)\n",
      "<AddBackward0 object at 0x7fc53c731cd0>\n"
     ]
    }
   ],
   "source": [
    "z = y + 2\n",
    "\n",
    "print(z)\n",
    "print(z.grad_fn)"
   ]
  },
  {
   "cell_type": "code",
   "execution_count": 18,
   "metadata": {},
   "outputs": [
    {
     "name": "stdout",
     "output_type": "stream",
     "text": [
      "tensor(25., grad_fn=<MulBackward0>)\n",
      "<AddBackward0 object at 0x7fc4c828c0d0>\n"
     ]
    }
   ],
   "source": [
    "out = z * z\n",
    "\n",
    "print(out)\n",
    "print(z.grad_fn)"
   ]
  },
  {
   "cell_type": "code",
   "execution_count": 19,
   "metadata": {},
   "outputs": [],
   "source": [
    "# Compute Gradients\n",
    "out.backward()"
   ]
  },
  {
   "cell_type": "code",
   "execution_count": 20,
   "metadata": {},
   "outputs": [
    {
     "name": "stdout",
     "output_type": "stream",
     "text": [
      "tensor(30.)\n",
      "tensor(10.)\n"
     ]
    }
   ],
   "source": [
    "# 2 * (w * x + 2) * w\n",
    "print(x.grad)\n",
    "# 2 * (w * x + 2) * x\n",
    "print(w.grad)\n"
   ]
  },
  {
   "cell_type": "markdown",
   "metadata": {},
   "source": [
    "## 5. Loss & Back Propagation"
   ]
  },
  {
   "cell_type": "code",
   "execution_count": 21,
   "metadata": {},
   "outputs": [
    {
     "name": "stdout",
     "output_type": "stream",
     "text": [
      "weight :  Parameter containing:\n",
      "tensor([[-0.0551,  0.3768,  0.2027],\n",
      "        [ 0.5458, -0.1743,  0.5409]], requires_grad=True)\n",
      "bias :  Parameter containing:\n",
      "tensor([0.0135, 0.5668], requires_grad=True)\n"
     ]
    }
   ],
   "source": [
    "# Create random tensor 5 * 3, 5 * 2\n",
    "x = torch.rand(5, 3)\n",
    "y = torch.rand(5, 2)\n",
    "\n",
    "# Computational Graph will be y = w * x + b\n",
    "affine = nn.Linear(3, 2)\n",
    "\n",
    "print(\"weight : \", affine.weight)\n",
    "print(\"bias : \", affine.bias)"
   ]
  },
  {
   "cell_type": "code",
   "execution_count": 22,
   "metadata": {},
   "outputs": [],
   "source": [
    "# Make loss function\n",
    "criterion = nn.MSELoss()\n",
    "\n",
    "# Create optimizer\n",
    "optimizer = optim.Adam(affine.parameters(), lr = 0.001, betas = (0.9, 0.999))"
   ]
  },
  {
   "cell_type": "code",
   "execution_count": 23,
   "metadata": {},
   "outputs": [],
   "source": [
    "# forward\n",
    "prediction = affine(x)"
   ]
  },
  {
   "cell_type": "code",
   "execution_count": 24,
   "metadata": {},
   "outputs": [
    {
     "name": "stdout",
     "output_type": "stream",
     "text": [
      "Loss : 0.22867567837238312\n"
     ]
    }
   ],
   "source": [
    "loss = criterion(prediction, y)\n",
    "print(\"Loss : {loss}\".format(loss = loss.item()))"
   ]
  },
  {
   "cell_type": "code",
   "execution_count": 25,
   "metadata": {},
   "outputs": [],
   "source": [
    "# backward\n",
    "loss.backward()"
   ]
  },
  {
   "cell_type": "code",
   "execution_count": 26,
   "metadata": {},
   "outputs": [
    {
     "name": "stdout",
     "output_type": "stream",
     "text": [
      "dW / dL : tensor([[-0.1865, -0.0987, -0.1423],\n",
      "        [ 0.2623,  0.1496,  0.3013]])\n",
      "db / dL : tensor([-0.3157,  0.4594])\n"
     ]
    }
   ],
   "source": [
    "print(\"dW / dL : {dw}\".format(dw = affine.weight.grad))\n",
    "print(\"db / dL : {db}\".format(db = affine.bias.grad))"
   ]
  },
  {
   "cell_type": "code",
   "execution_count": 27,
   "metadata": {},
   "outputs": [
    {
     "name": "stdout",
     "output_type": "stream",
     "text": [
      "weight :  Parameter containing:\n",
      "tensor([[-0.0551,  0.3768,  0.2027],\n",
      "        [ 0.5458, -0.1743,  0.5409]], requires_grad=True)\n",
      "bias :  Parameter containing:\n",
      "tensor([0.0135, 0.5668], requires_grad=True)\n",
      "weight :  Parameter containing:\n",
      "tensor([[-0.0541,  0.3778,  0.2037],\n",
      "        [ 0.5448, -0.1753,  0.5399]], requires_grad=True)\n",
      "bias :  Parameter containing:\n",
      "tensor([0.0145, 0.5658], requires_grad=True)\n"
     ]
    }
   ],
   "source": [
    "# Before update\n",
    "print(\"weight : \", affine.weight)\n",
    "print(\"bias : \", affine.bias)\n",
    "\n",
    "# After update\n",
    "optimizer.step()\n",
    "\n",
    "print(\"weight : \", affine.weight)\n",
    "print(\"bias : \", affine.bias)"
   ]
  },
  {
   "cell_type": "markdown",
   "metadata": {},
   "source": [
    "## 6. Dataloader"
   ]
  },
  {
   "cell_type": "markdown",
   "metadata": {},
   "source": [
    "The output of torchvision datasets are PILImage images of range [0, 1]. we transform them to Tensors of normalized range [-1, 1]"
   ]
  },
  {
   "cell_type": "code",
   "execution_count": 42,
   "metadata": {},
   "outputs": [
    {
     "name": "stdout",
     "output_type": "stream",
     "text": [
      "Files already downloaded and verified\n",
      "Files already downloaded and verified\n"
     ]
    }
   ],
   "source": [
    "transform = transforms.Compose([\n",
    "    transforms.ToTensor(),\n",
    "    transforms.Normalize((0.5, 0.5, 0.5), (0.5, 0.5, 0.5))\n",
    "])\n",
    "\n",
    "trainset = torchvision.datasets.CIFAR10(root = '../data', train=True,\n",
    "                                       download=True, transform=transform)\n",
    "\n",
    "trainloader = torch.utils.data.DataLoader(trainset, batch_size=4,\n",
    "                                         shuffle=True, num_workers=2)\n",
    "\n",
    "testset = torchvision.datasets.CIFAR10(root = '../data', train=False,\n",
    "                                       download=True, transform=transform)\n",
    "\n",
    "testloader = torch.utils.data.DataLoader(testset, batch_size = 4,\n",
    "                                        shuffle=False, num_workers=2)\n",
    "classes = ('plane', 'car', 'bird', 'cat',\n",
    "           'deer', 'dog', 'frog', 'horse', 'ship', 'truck')"
   ]
  },
  {
   "cell_type": "code",
   "execution_count": 43,
   "metadata": {},
   "outputs": [
    {
     "name": "stdout",
     "output_type": "stream",
     "text": [
      "deer plane ship frog\n"
     ]
    },
    {
     "data": {
      "image/png": "[encoded data removed]",
      "text/plain": [
       "<Figure size 432x288 with 1 Axes>"
      ]
     },
     "metadata": {
      "needs_background": "light"
     },
     "output_type": "display_data"
    }
   ],
   "source": [
    "# function to show an image\n",
    "\n",
    "def imshow(img):\n",
    "    img = img / 2 + 0.5                        # unnormalize\n",
    "    npimg = img.numpy()\n",
    "    plt.imshow(np.transpose(npimg, (1, 2, 0)))\n",
    "    plt.show\n",
    "    \n",
    "# Data iterator\n",
    "dataiter = iter(trainloader)\n",
    "images, labels = dataiter.next()\n",
    "\n",
    "imshow(torchvision.utils.make_grid(images))\n",
    "print(' '.join(\"{classes}\".format(classes = classes[labels[j]]) for j in range(4)))"
   ]
  },
  {
   "cell_type": "code",
   "execution_count": null,
   "metadata": {},
   "outputs": [],
   "source": []
  },
  {
   "cell_type": "code",
   "execution_count": null,
   "metadata": {},
   "outputs": [],
   "source": []
  },
  {
   "cell_type": "code",
   "execution_count": null,
   "metadata": {},
   "outputs": [],
   "source": []
  },
  {
   "cell_type": "code",
   "execution_count": null,
   "metadata": {},
   "outputs": [],
   "source": []
  },
  {
   "cell_type": "code",
   "execution_count": null,
   "metadata": {},
   "outputs": [],
   "source": []
  },
  {
   "cell_type": "code",
   "execution_count": null,
   "metadata": {},
   "outputs": [],
   "source": []
  }
 ],
 "metadata": {
  "kernelspec": {
   "display_name": "pytorch",
   "language": "python",
   "name": "pytorch"
  },
  "language_info": {
   "codemirror_mode": {
    "name": "ipython",
    "version": 3
   },
   "file_extension": ".py",
   "mimetype": "text/x-python",
   "name": "python",
   "nbconvert_exporter": "python",
   "pygments_lexer": "ipython3",
   "version": "3.7.5"
  }
 },
 "nbformat": 4,
 "nbformat_minor": 2
}
