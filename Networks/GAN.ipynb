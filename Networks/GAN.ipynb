{
 "cells": [
  {
   "cell_type": "code",
   "execution_count": 1,
   "metadata": {},
   "outputs": [],
   "source": [
    "from __future__ import print_function\n",
    "import torch\n",
    "import torch.nn as nn\n",
    "import torch.nn.functional as F\n",
    "import torch.optim as optim\n",
    "import torchvision\n",
    "import torchvision.transforms as transforms\n",
    "import numpy as np\n",
    "import matplotlib.pyplot as plt"
   ]
  },
  {
   "cell_type": "code",
   "execution_count": 2,
   "metadata": {},
   "outputs": [],
   "source": [
    "device = torch.device('cuda:0' if torch.cuda.is_available() else 'cpu')\n",
    "batch_size = 1\n",
    "num_workers = 2\n",
    "epochs = 4\n",
    "learning_rate = 0.01\n",
    "betas = (0.9, 0.999)\n",
    "PATH = '../data/saved_model/GAN.pth'"
   ]
  },
  {
   "cell_type": "code",
   "execution_count": 3,
   "metadata": {},
   "outputs": [],
   "source": [
    "transform = transforms.Compose([\n",
    "    transforms.ToTensor(),\n",
    "    transforms.Normalize((0.5,), (0.5,))\n",
    "])\n",
    "\n",
    "trainset = torchvision.datasets.MNIST(root = '../data', train=True,\n",
    "                                       download=True, transform=transform)\n",
    "\n",
    "trainloader = torch.utils.data.DataLoader(trainset, batch_size=batch_size,\n",
    "                                         shuffle=True, num_workers=num_workers)\n",
    "\n",
    "testset = torchvision.datasets.MNIST(root = '../data', train=False,\n",
    "                                       download=True, transform=transform)\n",
    "\n",
    "testloader = torch.utils.data.DataLoader(testset, batch_size=batch_size,\n",
    "                                        shuffle=False, num_workers=num_workers)\n",
    "\n",
    "classes = ('T-shirt/top', 'Trouser', 'Pullover', 'Dress',\n",
    "          'Coat', 'Sandal', 'Shirt', 'Sneaker', 'Bag', 'Ankle boot')\n",
    "\n",
    "def imshow(img):\n",
    "    npimg = img.numpy()\n",
    "    plt.imshow(npimg)\n",
    "    plt.show\n"
   ]
  },
  {
   "cell_type": "code",
   "execution_count": 4,
   "metadata": {},
   "outputs": [],
   "source": [
    "class Discriminator(nn.Module):\n",
    "    def __init__(self):\n",
    "        super(Discriminator, self).__init__()\n",
    "        \n",
    "        self.conv = nn.Sequential(\n",
    "            # 28 * 28 * 1\n",
    "            nn.Conv2d(1, 16, kernel_size=3, stride=1, padding=1),\n",
    "            nn.BatchNorm2d(16),\n",
    "            nn.ReLU(inplace=True),\n",
    "            # 28 * 28 * 16\n",
    "            nn.MaxPool2d(2, 2),\n",
    "            # 14 * 14 * 16\n",
    "            nn.Conv2d(16, 32, kernel_size=3, stride=1, padding=1),\n",
    "            nn.BatchNorm2d(32),\n",
    "            nn.ReLU(inplace=True),\n",
    "            # 14 * 14 * 32\n",
    "            nn.MaxPool2d(2, 2),\n",
    "            # 7 * 7 * 32\n",
    "        )     \n",
    "        self.fc = nn.Sequential(\n",
    "            nn.Linear(7 * 7 * 32, 120),\n",
    "            nn.Dropout(),\n",
    "            nn.ReLU(inplace=True),\n",
    "            nn.Linear(120, 1),\n",
    "            nn.Sigmoid()\n",
    "        )\n",
    "    def forward(self, x):\n",
    "        out = self.conv(x)\n",
    "        out = out.view(out.size(0), -1)\n",
    "        out = self.fc(out)\n",
    "        return out\n",
    "    \n",
    "class Generator(nn.Module):\n",
    "    def __init__(self):\n",
    "        super(Generator, self).__init__()\n",
    "        \n",
    "        \n",
    "        self.fc = nn.Sequential(\n",
    "            nn.Linear(10 * 10 * 1, 120),\n",
    "            nn.Dropout(),\n",
    "            nn.ReLU(inplace=True),\n",
    "            nn.Linear(120, 28 * 28 * 1),\n",
    "            nn.Tanh()\n",
    "        )\n",
    "    def forward(self, x):\n",
    "        out = self.fc(x)\n",
    "        out = out.view(1, 1, 28, 28)\n",
    "        return out"
   ]
  },
  {
   "cell_type": "code",
   "execution_count": 5,
   "metadata": {},
   "outputs": [
    {
     "data": {
      "text/plain": [
       "Discriminator(\n",
       "  (conv): Sequential(\n",
       "    (0): Conv2d(1, 16, kernel_size=(3, 3), stride=(1, 1), padding=(1, 1))\n",
       "    (1): BatchNorm2d(16, eps=1e-05, momentum=0.1, affine=True, track_running_stats=True)\n",
       "    (2): ReLU(inplace=True)\n",
       "    (3): MaxPool2d(kernel_size=2, stride=2, padding=0, dilation=1, ceil_mode=False)\n",
       "    (4): Conv2d(16, 32, kernel_size=(3, 3), stride=(1, 1), padding=(1, 1))\n",
       "    (5): BatchNorm2d(32, eps=1e-05, momentum=0.1, affine=True, track_running_stats=True)\n",
       "    (6): ReLU(inplace=True)\n",
       "    (7): MaxPool2d(kernel_size=2, stride=2, padding=0, dilation=1, ceil_mode=False)\n",
       "  )\n",
       "  (fc): Sequential(\n",
       "    (0): Linear(in_features=1568, out_features=120, bias=True)\n",
       "    (1): Dropout(p=0.5, inplace=False)\n",
       "    (2): ReLU(inplace=True)\n",
       "    (3): Linear(in_features=120, out_features=1, bias=True)\n",
       "    (4): Sigmoid()\n",
       "  )\n",
       ")"
      ]
     },
     "execution_count": 5,
     "metadata": {},
     "output_type": "execute_result"
    }
   ],
   "source": [
    "D = Discriminator()\n",
    "D.to(device)"
   ]
  },
  {
   "cell_type": "code",
   "execution_count": 6,
   "metadata": {},
   "outputs": [
    {
     "data": {
      "text/plain": [
       "Generator(\n",
       "  (fc): Sequential(\n",
       "    (0): Linear(in_features=100, out_features=120, bias=True)\n",
       "    (1): Dropout(p=0.5, inplace=False)\n",
       "    (2): ReLU(inplace=True)\n",
       "    (3): Linear(in_features=120, out_features=784, bias=True)\n",
       "    (4): Tanh()\n",
       "  )\n",
       ")"
      ]
     },
     "execution_count": 6,
     "metadata": {},
     "output_type": "execute_result"
    }
   ],
   "source": [
    "G = Generator()\n",
    "G.to(device)"
   ]
  },
  {
   "cell_type": "code",
   "execution_count": 7,
   "metadata": {},
   "outputs": [],
   "source": [
    "criterion = nn.BCELoss()\n",
    "D_optimizer = optim.Adam(D.parameters(), lr=learning_rate, betas=betas)\n",
    "G_optimizer = optim.Adam(G.parameters(), lr=learning_rate, betas=betas)"
   ]
  },
  {
   "cell_type": "code",
   "execution_count": 8,
   "metadata": {},
   "outputs": [
    {
     "name": "stderr",
     "output_type": "stream",
     "text": [
      "/home/jun/anaconda3/envs/pytorch/lib/python3.7/site-packages/torch/nn/modules/loss.py:498: UserWarning: Using a target size (torch.Size([])) that is different to the input size (torch.Size([1, 1])) is deprecated. Please ensure they have the same size.\n",
      "  return F.binary_cross_entropy(input, target, weight=self.weight, reduction=self.reduction)\n"
     ]
    },
    {
     "name": "stdout",
     "output_type": "stream",
     "text": [
      "[1, 1000] D_loss: 2.6196505649592767 G_loss: 39.00272064358465\n",
      "[1, 2000] D_loss: 1.4189090322652544 G_loss: 41.1630555590538\n",
      "[1, 3000] D_loss: 2.3193629846561947 G_loss: 39.78843964359298\n",
      "[1, 4000] D_loss: 1.7458314363306209 G_loss: 41.63934543610931\n",
      "[1, 5000] D_loss: 1.3634736223556887 G_loss: 43.70531333093572\n",
      "[1, 6000] D_loss: 1.2241513857694608 G_loss: 43.48321910166359\n",
      "[1, 7000] D_loss: 1.025212779240939 G_loss: 39.65749853105568\n",
      "[1, 8000] D_loss: 0.8944297618575388 G_loss: 36.85780330180158\n",
      "[1, 9000] D_loss: 0.8032258451787686 G_loss: 36.20583353905358\n",
      "[1, 10000] D_loss: 0.7319255947917128 G_loss: 35.08805101478407\n",
      "[1, 11000] D_loss: 0.6788253592363279 G_loss: 34.55894623529173\n",
      "[1, 12000] D_loss: 0.6310847869313404 G_loss: 33.570807510275216\n",
      "[1, 13000] D_loss: 0.5850677936164314 G_loss: 32.16545207950607\n",
      "[1, 14000] D_loss: 0.562307492816094 G_loss: 30.993900001555268\n",
      "[1, 15000] D_loss: 0.5243177911145634 G_loss: 29.565020183252525\n",
      "[1, 16000] D_loss: 0.48910732836408033 G_loss: 28.250713565645544\n",
      "[1, 17000] D_loss: 0.45891655149073224 G_loss: 27.19988610853298\n",
      "[1, 18000] D_loss: 0.43780951240401605 G_loss: 26.48023217114595\n",
      "[1, 19000] D_loss: 0.4145914089528209 G_loss: 25.681427815096022\n",
      "[1, 20000] D_loss: 0.3932739403758017 G_loss: 25.012333195946347\n",
      "[1, 21000] D_loss: 0.37285551025142954 G_loss: 24.44844632846326\n",
      "[1, 22000] D_loss: 0.3582142487187786 G_loss: 24.045355668073743\n",
      "[1, 23000] D_loss: 0.34421127192045375 G_loss: 23.640536754789178\n",
      "[1, 24000] D_loss: 0.3312342134667522 G_loss: 23.266705648422924\n",
      "[1, 25000] D_loss: 0.31930861622766943 G_loss: 22.967264880310005\n",
      "[1, 26000] D_loss: 0.30912383929148723 G_loss: 22.767724542510077\n",
      "[1, 27000] D_loss: 0.29616940498996747 G_loss: 22.511797166563802\n",
      "[1, 28000] D_loss: 0.2864891853767511 G_loss: 22.345852802343938\n",
      "[1, 29000] D_loss: 0.2767167054782848 G_loss: 22.176386903135032\n",
      "[1, 30000] D_loss: 0.2666126269845022 G_loss: 21.95081101308414\n",
      "[1, 31000] D_loss: 0.25758827595775924 G_loss: 21.780398323364988\n",
      "[1, 32000] D_loss: 0.2504542002577725 G_loss: 21.673975895405196\n",
      "[1, 33000] D_loss: 0.24289794852706748 G_loss: 21.605741758214442\n",
      "[1, 34000] D_loss: 0.23495990721844748 G_loss: 21.491023264309444\n",
      "[1, 35000] D_loss: 0.22859204112755668 G_loss: 21.417965389441623\n",
      "[1, 36000] D_loss: 0.22199593693183245 G_loss: 21.33820714037929\n",
      "[1, 37000] D_loss: 0.2157825196663922 G_loss: 21.30224602105108\n",
      "[1, 38000] D_loss: 0.21045248999487742 G_loss: 21.446230722016047\n",
      "[1, 39000] D_loss: 0.21974967133518358 G_loss: 21.978314998588786\n",
      "[1, 40000] D_loss: 0.21721605726590218 G_loss: 22.520651587328853\n",
      "[1, 41000] D_loss: 0.21091861709422324 G_loss: 23.125055533580095\n",
      "[1, 42000] D_loss: 0.20501985355602306 G_loss: 23.5823257404264\n",
      "[1, 43000] D_loss: 0.19902870217650104 G_loss: 24.14267274828091\n",
      "[1, 44000] D_loss: 0.1943954429153072 G_loss: 24.60198126940771\n",
      "[1, 45000] D_loss: 0.18959792458077346 G_loss: 25.17033783009055\n",
      "[1, 46000] D_loss: 0.18560369048282757 G_loss: 25.612906867960916\n",
      "[1, 47000] D_loss: 0.1817054861983254 G_loss: 25.934054031130135\n",
      "[1, 48000] D_loss: 0.18331081080884493 G_loss: 26.247994124292426\n",
      "[1, 49000] D_loss: 0.1800088234171429 G_loss: 26.46491680066472\n",
      "[1, 50000] D_loss: 0.1765511111225393 G_loss: 26.720277914640928\n",
      "[1, 51000] D_loss: 0.172519540747704 G_loss: 27.155278829859768\n",
      "[1, 52000] D_loss: 0.1686387374199365 G_loss: 27.5887898654553\n",
      "[1, 53000] D_loss: 0.16567425513120043 G_loss: 27.88690402294978\n",
      "[1, 54000] D_loss: 0.16227833991345483 G_loss: 28.19885906906459\n",
      "[1, 55000] D_loss: 0.15961382407285613 G_loss: 28.456611228027153\n",
      "[1, 56000] D_loss: 0.15720510075773034 G_loss: 28.72745901040323\n",
      "[1, 57000] D_loss: 0.15474696821883868 G_loss: 28.934344036267344\n",
      "[1, 58000] D_loss: 0.15194343038853228 G_loss: 29.177769600511787\n",
      "[1, 59000] D_loss: 0.14926291647587417 G_loss: 29.396757394587368\n",
      "[1, 60000] D_loss: 0.1467875343967877 G_loss: 29.548299101791162\n",
      "epoch: 0, D_loss: 0.1467875343967877, G_loss: 29.548299101791162\n",
      "[2, 1000] D_loss: 4.558946507018333e-09 G_loss: 0.706941339519474\n",
      "[2, 2000] D_loss: 2.4251799578411208e-06 G_loss: 1.3594099117507563\n",
      "[2, 3000] D_loss: 4.622820377159764e-06 G_loss: 1.9375750185235274\n",
      "[2, 4000] D_loss: 5.813144755872023e-05 G_loss: 2.4198935866372473\n",
      "[2, 5000] D_loss: 5.981321749665376e-05 G_loss: 3.044904141871182\n",
      "[2, 6000] D_loss: 5.9001220631715825e-05 G_loss: 3.6602131600512133\n",
      "[2, 7000] D_loss: 5.980069198929518e-05 G_loss: 4.092164150226948\n",
      "[2, 8000] D_loss: 5.9413933461373074e-05 G_loss: 4.655989577931402\n",
      "[2, 9000] D_loss: 5.9926601383062776e-05 G_loss: 5.1224212283148365\n",
      "[2, 10000] D_loss: 5.892500129217327e-05 G_loss: 5.69612058332275\n",
      "[2, 11000] D_loss: 5.8366928667954754e-05 G_loss: 6.117300658252611\n",
      "[2, 12000] D_loss: 5.7502593983472826e-05 G_loss: 6.564880941180013\n",
      "[2, 13000] D_loss: 5.9173807018557846e-05 G_loss: 7.067302649687851\n",
      "[2, 14000] D_loss: 6.913885027025869e-05 G_loss: 7.509787117381795\n",
      "[2, 15000] D_loss: 6.828531251984328e-05 G_loss: 8.087577739764086\n",
      "[2, 16000] D_loss: 6.732042089658321e-05 G_loss: 8.712362484830106\n",
      "[2, 17000] D_loss: 6.640463671051075e-05 G_loss: 9.301350586500755\n",
      "[2, 18000] D_loss: 6.557949929584527e-05 G_loss: 9.824786445700953\n",
      "[2, 19000] D_loss: 6.488189160875845e-05 G_loss: 10.276065134185377\n",
      "[2, 20000] D_loss: 6.432755304557815e-05 G_loss: 10.808796022571189\n",
      "[2, 21000] D_loss: 6.347277225066106e-05 G_loss: 11.384776391800802\n",
      "[2, 22000] D_loss: 6.26224491849036e-05 G_loss: 11.934472680492105\n",
      "[2, 23000] D_loss: 6.194530303495064e-05 G_loss: 12.371448982395263\n",
      "[2, 24000] D_loss: 6.121869081118194e-05 G_loss: 12.832917250135253\n",
      "[2, 25000] D_loss: 6.205221489322944e-05 G_loss: 13.252415822897145\n",
      "[2, 26000] D_loss: 6.140733918651426e-05 G_loss: 13.695767972146742\n",
      "[2, 27000] D_loss: 6.076472621872679e-05 G_loss: 14.123762809045134\n",
      "[2, 28000] D_loss: 6.000139666233715e-05 G_loss: 14.619548655210833\n",
      "[2, 29000] D_loss: 5.932229431629908e-05 G_loss: 15.086639574525925\n",
      "[2, 30000] D_loss: 5.87281890385652e-05 G_loss: 15.479969078098481\n",
      "[2, 31000] D_loss: 5.799782476047102e-05 G_loss: 15.962293580390405\n",
      "[2, 32000] D_loss: 5.7335319076338314e-05 G_loss: 16.366833426726178\n",
      "[2, 33000] D_loss: 5.6687823746218556e-05 G_loss: 16.767782244403456\n",
      "[2, 34000] D_loss: 5.61813844691394e-05 G_loss: 17.128732485079325\n",
      "[2, 35000] D_loss: 5.71864629460227e-05 G_loss: 17.53234165156122\n",
      "[2, 36000] D_loss: 5.657674137048498e-05 G_loss: 17.925011231836258\n",
      "[2, 37000] D_loss: 5.602609087142416e-05 G_loss: 18.238191174460383\n",
      "[2, 38000] D_loss: 5.542302341404965e-05 G_loss: 18.63621989622259\n",
      "[2, 39000] D_loss: 5.483558815285699e-05 G_loss: 19.028612834610815\n",
      "[2, 40000] D_loss: 5.4280408596714306e-05 G_loss: 19.397767730179794\n",
      "[2, 41000] D_loss: 5.387331773652001e-05 G_loss: 19.7661903055646\n",
      "[2, 42000] D_loss: 5.331048136844255e-05 G_loss: 20.06201390977855\n",
      "[2, 43000] D_loss: 5.27002486442836e-05 G_loss: 20.391227233193398\n",
      "[2, 44000] D_loss: 5.232219369318319e-05 G_loss: 20.590612344728374\n",
      "[2, 45000] D_loss: 5.176049305083033e-05 G_loss: 20.941315053795115\n",
      "[2, 46000] D_loss: 5.124577888931751e-05 G_loss: 21.231826850116697\n",
      "[2, 47000] D_loss: 5.077411376023673e-05 G_loss: 21.475077667412275\n",
      "[2, 48000] D_loss: 5.040632617443715e-05 G_loss: 21.684495738169296\n",
      "[2, 49000] D_loss: 4.997437773337652e-05 G_loss: 21.95868642277828\n",
      "[2, 50000] D_loss: 4.9487450607540765e-05 G_loss: 22.243164732526132\n",
      "[2, 51000] D_loss: 4.896132503353574e-05 G_loss: 22.554404144054597\n",
      "[2, 52000] D_loss: 4.857305124262744e-05 G_loss: 22.805564545923335\n",
      "[2, 53000] D_loss: 4.816057368843624e-05 G_loss: 23.063662768928747\n",
      "[2, 54000] D_loss: 4.774016796441782e-05 G_loss: 23.339693704565708\n",
      "[2, 55000] D_loss: 4.731605677740291e-05 G_loss: 23.627662350764005\n",
      "[2, 56000] D_loss: 4.6979026989234285e-05 G_loss: 23.839094711915354\n",
      "[2, 57000] D_loss: 4.6582443827335664e-05 G_loss: 24.089780129228803\n",
      "[2, 58000] D_loss: 4.6189677686880484e-05 G_loss: 24.306142766032856\n",
      "[2, 59000] D_loss: 4.5833681218626315e-05 G_loss: 24.52860191247664\n",
      "[2, 60000] D_loss: 4.54426706157172e-05 G_loss: 24.76147543873005\n",
      "epoch: 1, D_loss: 4.54426706157172e-05, G_loss: 24.76147543873005\n",
      "[3, 1000] D_loss: 0.0 G_loss: 0.42370014175239934\n",
      "[3, 2000] D_loss: 1.3477357354775166e-10 G_loss: 0.8374357709738567\n"
     ]
    },
    {
     "name": "stdout",
     "output_type": "stream",
     "text": [
      "[3, 3000] D_loss: 9.568513572610535e-10 G_loss: 1.2699283993901895\n",
      "[3, 4000] D_loss: 9.497773054524197e-10 G_loss: 1.6653754160796437\n",
      "[3, 5000] D_loss: 9.428742638993239e-10 G_loss: 2.0164001713421538\n",
      "[3, 6000] D_loss: 9.356075386808393e-10 G_loss: 2.3992076508523317\n",
      "[3, 7000] D_loss: 9.274108087722954e-10 G_loss: 2.8511650951379215\n",
      "[3, 8000] D_loss: 9.203795937652577e-10 G_loss: 3.230372312246878\n",
      "[3, 9000] D_loss: 9.215562343542757e-10 G_loss: 3.6081014223549\n",
      "[3, 10000] D_loss: 6.038588664857063e-09 G_loss: 4.034453504669306\n",
      "[3, 11000] D_loss: 6.298227982277305e-09 G_loss: 4.435135342157455\n",
      "[3, 12000] D_loss: 1.9807821325502857e-05 G_loss: 4.802207860035886\n",
      "[3, 13000] D_loss: 0.004427159405291035 G_loss: 5.0192824385019\n",
      "[3, 14000] D_loss: 0.005672782899300295 G_loss: 5.320564008636235\n",
      "[3, 15000] D_loss: 0.0056283622917512105 G_loss: 5.575842905888157\n",
      "[3, 16000] D_loss: 0.005593396751154243 G_loss: 5.788380984949465\n",
      "[3, 17000] D_loss: 0.005586927718671765 G_loss: 6.043534191348655\n",
      "[3, 18000] D_loss: 0.00557727624322624 G_loss: 6.292337521412665\n",
      "[3, 19000] D_loss: 0.005567056592037709 G_loss: 6.520325680064909\n",
      "[3, 20000] D_loss: 0.005556342647249661 G_loss: 6.7784717786574\n",
      "[3, 21000] D_loss: 0.005516341262387146 G_loss: 7.023083290459373\n",
      "[3, 22000] D_loss: 0.005503141787536662 G_loss: 7.262537010382007\n",
      "[3, 23000] D_loss: 0.0054593193506334995 G_loss: 7.54253577935249\n",
      "[3, 24000] D_loss: 0.00546675232004149 G_loss: 7.764512685328227\n",
      "[3, 25000] D_loss: 0.005425195533169777 G_loss: 8.021134144478797\n",
      "[3, 26000] D_loss: 0.005394440088770175 G_loss: 8.233037043241593\n",
      "[3, 27000] D_loss: 0.005353647384488878 G_loss: 8.483923053711482\n",
      "[3, 28000] D_loss: 0.005317298064221218 G_loss: 8.708807823491124\n",
      "[3, 29000] D_loss: 0.0052974615151565015 G_loss: 8.953349237413894\n",
      "[3, 30000] D_loss: 0.005297538604597485 G_loss: 9.189560183122566\n",
      "[3, 31000] D_loss: 0.005266042774561828 G_loss: 9.367350267147465\n",
      "[3, 32000] D_loss: 0.0052300249654263185 G_loss: 9.585747634377292\n",
      "[3, 33000] D_loss: 0.0051975120977057025 G_loss: 9.782025771710114\n",
      "[3, 34000] D_loss: 0.005162420506725236 G_loss: 10.0151633988941\n",
      "[3, 35000] D_loss: 0.005123100730789235 G_loss: 10.265904682735028\n",
      "[3, 36000] D_loss: 0.005092666163072759 G_loss: 10.482012009759389\n",
      "[3, 37000] D_loss: 0.005095927980361296 G_loss: 10.656546078504443\n",
      "[3, 38000] D_loss: 0.005066098717685686 G_loss: 10.83872044537236\n",
      "[3, 39000] D_loss: 0.005036334827458083 G_loss: 11.033827098850836\n",
      "[3, 40000] D_loss: 0.00500691898828831 G_loss: 11.215858666219534\n",
      "[3, 41000] D_loss: 0.004978119723027686 G_loss: 11.411399330067768\n",
      "[3, 42000] D_loss: 0.0049455720670733335 G_loss: 11.63311839998321\n",
      "[3, 43000] D_loss: 0.0049398449156685155 G_loss: 11.874480855877229\n",
      "[3, 44000] D_loss: 0.004907956199287475 G_loss: 12.095657175670336\n",
      "[3, 45000] D_loss: 0.004917073984796295 G_loss: 12.296994692096774\n",
      "[3, 46000] D_loss: 0.0048909670371570756 G_loss: 12.464397696757\n",
      "[3, 47000] D_loss: 0.004875959866369262 G_loss: 12.680509695515351\n",
      "[3, 48000] D_loss: 0.004848830879180705 G_loss: 12.870133805684608\n",
      "[3, 49000] D_loss: 0.0048209831637599666 G_loss: 13.066246848247607\n",
      "[3, 50000] D_loss: 0.0048027106831088524 G_loss: 13.251738753587233\n",
      "[3, 51000] D_loss: 0.004788849333655253 G_loss: 13.442212015487291\n",
      "[3, 52000] D_loss: 0.004766804354726136 G_loss: 13.628699633019929\n",
      "[3, 53000] D_loss: 0.004741280145577291 G_loss: 13.846619247309032\n",
      "[3, 54000] D_loss: 0.004717244647369065 G_loss: 14.041144043842124\n",
      "[3, 55000] D_loss: 0.004697735578421958 G_loss: 14.269540566198067\n",
      "[3, 56000] D_loss: 0.0046713893327618005 G_loss: 14.463042194147766\n",
      "[3, 57000] D_loss: 0.0046519161488473805 G_loss: 14.618653844862019\n",
      "[3, 58000] D_loss: 0.004626101916158507 G_loss: 14.815024850338128\n",
      "[3, 59000] D_loss: 0.004601945344467204 G_loss: 14.98678487817243\n",
      "[3, 60000] D_loss: 0.004578837159334523 G_loss: 15.165679704590389\n",
      "epoch: 2, D_loss: 0.004578837159334523, G_loss: 15.165679704590389\n",
      "[4, 1000] D_loss: 6.853521744377094e-06 G_loss: 0.2379778672334769\n",
      "[4, 2000] D_loss: 1.0003524880527448e-05 G_loss: 0.5031511356386593\n",
      "[4, 3000] D_loss: 1.0149241052897431e-05 G_loss: 0.7525337018747823\n",
      "[4, 4000] D_loss: 1.2709825065299769e-05 G_loss: 0.953950126524026\n",
      "[4, 5000] D_loss: 0.00018304330560070439 G_loss: 1.0873280187865833\n",
      "[4, 6000] D_loss: 0.00018207913552858461 G_loss: 1.2368982783200977\n",
      "[4, 7000] D_loss: 0.0001811036049434348 G_loss: 1.3977632506916247\n",
      "[4, 8000] D_loss: 0.00018530517166050485 G_loss: 1.5468472826964887\n",
      "[4, 9000] D_loss: 0.00018432707753608915 G_loss: 1.690077076118254\n",
      "[4, 10000] D_loss: 0.00018335925452338267 G_loss: 1.8372457024417488\n",
      "[4, 11000] D_loss: 0.00018257182739290836 G_loss: 1.9612413796647137\n",
      "[4, 12000] D_loss: 0.0001816476062715157 G_loss: 2.100113871437277\n",
      "[4, 13000] D_loss: 0.00018069956569696208 G_loss: 2.2422232378490197\n",
      "[4, 14000] D_loss: 0.0001795712822878079 G_loss: 2.4181808175301125\n",
      "[4, 15000] D_loss: 0.003024953346948305 G_loss: 2.554793812120268\n",
      "[4, 16000] D_loss: 0.0035454995489242803 G_loss: 2.702275970077211\n",
      "[4, 17000] D_loss: 0.003527067631374156 G_loss: 2.8424691398854183\n",
      "[4, 18000] D_loss: 0.003832407540302623 G_loss: 2.9797719029323533\n",
      "[4, 19000] D_loss: 0.0038150826319700687 G_loss: 3.1017072547831406\n",
      "[4, 20000] D_loss: 0.003797575235619304 G_loss: 3.237964950733121\n",
      "[4, 21000] D_loss: 0.003774783227279951 G_loss: 3.419376768788957\n",
      "[4, 22000] D_loss: 0.003756815199224671 G_loss: 3.557600349149601\n",
      "[4, 23000] D_loss: 0.0037409866164234613 G_loss: 3.67871404234856\n",
      "[4, 24000] D_loss: 0.003721062629961787 G_loss: 3.8249864249115046\n",
      "[4, 25000] D_loss: 0.003703601375540041 G_loss: 3.9606747851405433\n",
      "[4, 26000] D_loss: 0.003685346779283758 G_loss: 4.102624538521487\n",
      "[4, 27000] D_loss: 0.0038504111916076353 G_loss: 4.218004131938513\n",
      "[4, 28000] D_loss: 0.003832590561280075 G_loss: 4.326365215105905\n",
      "[4, 29000] D_loss: 0.0038141206391790576 G_loss: 4.438674416750039\n",
      "[4, 30000] D_loss: 0.006222544150480093 G_loss: 4.5640401864859355\n",
      "[4, 31000] D_loss: 0.006254131857494643 G_loss: 4.705048293164116\n",
      "[4, 32000] D_loss: 0.0062244789854308275 G_loss: 4.817886011849837\n",
      "[4, 33000] D_loss: 0.006194588594445169 G_loss: 4.927436311711836\n",
      "[4, 34000] D_loss: 0.006162678948976941 G_loss: 5.0545775140759535\n",
      "[4, 35000] D_loss: 0.006134392244956081 G_loss: 5.162172136097901\n",
      "[4, 36000] D_loss: 0.006103349282472349 G_loss: 5.280469172225659\n",
      "[4, 37000] D_loss: 0.006079338073099455 G_loss: 5.373299645511266\n",
      "[4, 38000] D_loss: 0.006055267874597858 G_loss: 5.46214884443168\n",
      "[4, 39000] D_loss: 0.006028936343159104 G_loss: 5.564820584478557\n",
      "[4, 40000] D_loss: 0.005999434127058395 G_loss: 5.678621332993927\n",
      "[4, 41000] D_loss: 0.0059733443792942586 G_loss: 5.778622816838608\n",
      "[4, 42000] D_loss: 0.0059479574860580135 G_loss: 5.873788649465215\n",
      "[4, 43000] D_loss: 0.005923968040083576 G_loss: 5.964709613317071\n",
      "[4, 44000] D_loss: 0.006093524763980707 G_loss: 6.071781332398224\n",
      "[4, 45000] D_loss: 0.006062925829773853 G_loss: 6.182100497152753\n",
      "[4, 46000] D_loss: 0.00603880974955933 G_loss: 6.271405553619958\n",
      "[4, 47000] D_loss: 0.006009462970716826 G_loss: 6.3806831336964684\n",
      "[4, 48000] D_loss: 0.005982733404635603 G_loss: 6.4742423951391865\n",
      "[4, 49000] D_loss: 0.00595832357337519 G_loss: 6.564082246716425\n",
      "[4, 50000] D_loss: 0.005932046004132095 G_loss: 6.665620582807529\n",
      "[4, 51000] D_loss: 0.005908047205086326 G_loss: 6.75322057401026\n",
      "[4, 52000] D_loss: 0.005883790229109034 G_loss: 6.840275469726276\n",
      "[4, 53000] D_loss: 0.005855703702772876 G_loss: 6.941238077392983\n",
      "[4, 54000] D_loss: 0.005831208440858325 G_loss: 7.029458347362182\n",
      "[4, 55000] D_loss: 0.005806257607664452 G_loss: 7.122270251397782\n",
      "[4, 56000] D_loss: 0.005780429643789743 G_loss: 7.213499287749117\n",
      "[4, 57000] D_loss: 0.005760018675512209 G_loss: 7.289704930237657\n",
      "[4, 58000] D_loss: 0.005732884329487813 G_loss: 7.388201260014365\n",
      "[4, 59000] D_loss: 0.005711104963343533 G_loss: 7.46837619265474\n",
      "[4, 60000] D_loss: 0.005685903929131212 G_loss: 7.559043246588405\n",
      "epoch: 3, D_loss: 0.005685903929131212, G_loss: 7.559043246588405\n",
      "Finished Training\n"
     ]
    }
   ],
   "source": [
    "total_steps = len(trainloader)\n",
    "cnt = 0\n",
    "all_D_losses = []\n",
    "all_G_losses = []\n",
    "for epoch in range(epochs):\n",
    "    D_running_loss = 0.\n",
    "    G_running_loss = 0.\n",
    "    for i, (images, labels) in enumerate(trainloader, 0):\n",
    "        if i % 1000 == 999:\n",
    "            print(\"[{epoch}, {index}] D_loss: {D_loss} G_loss: {G_loss}\".format(epoch = epoch + 1, index = i + 1, D_loss = D_running_loss / cnt, G_loss = G_running_loss / cnt))\n",
    "            all_D_losses.append(D_running_loss / cnt)\n",
    "            all_G_losses.append(G_running_loss / cnt)\n",
    "        if labels[0] != 1:\n",
    "            continue\n",
    "        cnt += 1\n",
    "        # Train Discriminator\n",
    "        images = images.to(device)\n",
    "        fake_images = torch.randn(1, 10 * 10).to(device)\n",
    "        \n",
    "        \n",
    "        D_loss = criterion(D(images), torch.tensor(1.).to(device)) + criterion(D(G(fake_images)), torch.tensor(0.).to(device))\n",
    "        \n",
    "        \n",
    "        D_optimizer.zero_grad()\n",
    "        D_loss.backward()\n",
    "        D_optimizer.step()\n",
    "        \n",
    "        # Train Generator\n",
    "        \n",
    "        G_loss = criterion(D(G(fake_images)), torch.tensor(1.).to(device))\n",
    "        \n",
    "        G_optimizer.zero_grad()\n",
    "        G_loss.backward()\n",
    "        G_optimizer.step()\n",
    "        \n",
    "        D_running_loss += D_loss.item() \n",
    "        G_running_loss += G_loss.item()\n",
    "    print(\"epoch: {epoch}, D_loss: {D_loss}, G_loss: {G_loss}\".format(epoch = epoch, D_loss = D_running_loss / cnt, G_loss = G_running_loss / cnt))\n",
    "print(\"Finished Training\")"
   ]
  },
  {
   "cell_type": "code",
   "execution_count": 9,
   "metadata": {},
   "outputs": [
    {
     "data": {
      "text/plain": [
       "[<matplotlib.lines.Line2D at 0x7f18100c4890>]"
      ]
     },
     "execution_count": 9,
     "metadata": {},
     "output_type": "execute_result"
    },
    {
     "data": {
      "text/plain": [
       "<Figure size 432x288 with 0 Axes>"
      ]
     },
     "metadata": {},
     "output_type": "display_data"
    },
    {
     "data": {
      "image/png": "[encoded data removed]",
      "text/plain": [
       "<Figure size 432x288 with 2 Axes>"
      ]
     },
     "metadata": {
      "needs_background": "light"
     },
     "output_type": "display_data"
    }
   ],
   "source": [
    "plt.figure()\n",
    "fig, axs = plt.subplots(2)\n",
    "axs[0].plot(all_D_losses)\n",
    "axs[1].plot(all_G_losses)"
   ]
  },
  {
   "cell_type": "code",
   "execution_count": 13,
   "metadata": {},
   "outputs": [
    {
     "data": {
      "image/png": "[encoded data removed]",
      "text/plain": [
       "<Figure size 432x288 with 1 Axes>"
      ]
     },
     "metadata": {
      "needs_background": "light"
     },
     "output_type": "display_data"
    }
   ],
   "source": [
    "# Test\n",
    "\n",
    "noise = torch.randn(1, 10 * 10).to(device)\n",
    "generated_image = G(noise).view(28, 28).cpu().detach()\n",
    "\n",
    "\n",
    "imshow(generated_image)\n"
   ]
  },
  {
   "cell_type": "code",
   "execution_count": 11,
   "metadata": {},
   "outputs": [
    {
     "data": {
      "image/png": "[encoded data removed]",
      "text/plain": [
       "<Figure size 432x288 with 1 Axes>"
      ]
     },
     "metadata": {
      "needs_background": "light"
     },
     "output_type": "display_data"
    }
   ],
   "source": [
    "dataiter = iter(trainloader)\n",
    "\n",
    "while(True):\n",
    "    images, labels = dataiter.next()\n",
    "    if labels[0] == 1:\n",
    "        images = images.view(28, 28)\n",
    "        imshow(images)\n",
    "        break"
   ]
  },
  {
   "cell_type": "code",
   "execution_count": null,
   "metadata": {},
   "outputs": [],
   "source": []
  },
  {
   "cell_type": "code",
   "execution_count": null,
   "metadata": {},
   "outputs": [],
   "source": []
  },
  {
   "cell_type": "code",
   "execution_count": null,
   "metadata": {},
   "outputs": [],
   "source": []
  }
 ],
 "metadata": {
  "kernelspec": {
   "display_name": "pytorch",
   "language": "python",
   "name": "pytorch"
  },
  "language_info": {
   "codemirror_mode": {
    "name": "ipython",
    "version": 3
   },
   "file_extension": ".py",
   "mimetype": "text/x-python",
   "name": "python",
   "nbconvert_exporter": "python",
   "pygments_lexer": "ipython3",
   "version": "3.7.5"
  }
 },
 "nbformat": 4,
 "nbformat_minor": 2
}
